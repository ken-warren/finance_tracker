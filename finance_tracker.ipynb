{
 "cells": [
  {
   "cell_type": "markdown",
   "metadata": {},
   "source": [
    "# Finance Tracker"
   ]
  },
  {
   "cell_type": "markdown",
   "metadata": {},
   "source": [
    "# 1. Import Pandas"
   ]
  },
  {
   "cell_type": "code",
   "execution_count": 1,
   "metadata": {},
   "outputs": [],
   "source": [
    "import pandas as pd"
   ]
  },
  {
   "cell_type": "markdown",
   "metadata": {},
   "source": [
    "# 2. Create class FinanceTracker"
   ]
  },
  {
   "cell_type": "code",
   "execution_count": 47,
   "metadata": {},
   "outputs": [
    {
     "data": {
      "text/plain": [
       "'Budget Exceeded!: $-25'"
      ]
     },
     "execution_count": 47,
     "metadata": {},
     "output_type": "execute_result"
    }
   ],
   "source": [
    "class FinanceTracker:\n",
    "    def __init__(self, budget):\n",
    "        self.budget = budget\n",
    "        self.transactions = pd.DataFrame(columns=[\"date\", \"category\", \"description\", \"amount\"])\n",
    " \n",
    "    def add_transactions(self, date, category, description, amount):\n",
    "        if isinstance(amount, (int, float)):\n",
    "            self.new_transactions = pd.DataFrame({\"date\": date,\n",
    "                                    \"category\": category,\n",
    "                                    \"description\": description,\n",
    "                                    \"amount\": amount}, index = [0])\n",
    "\n",
    "        \n",
    "            self.transactions = pd.concat([self.transactions, self.new_transactions], ignore_index=True)\n",
    "            return \"transaction added successfully\"\n",
    "        else:\n",
    "            return \"Invalid amount. Transaction not added\"\n",
    "        \n",
    "    def get_transaction(self, category=None):\n",
    "        if category:\n",
    "            return self.transactions[self.transactions[\"category\"] == category]\n",
    "        return self.transactions\n",
    "    \n",
    "    def get_total_spending(self, category=None):\n",
    "        if category:\n",
    "            return self.transactions[self.transactions[\"category\"] == category][\"amount\"].sum()\n",
    "        return self.transactions[\"amount\"].sum()\n",
    "    \n",
    "    def get_budget_balance(self):\n",
    "        balance = self.budget - self.transactions[\"amount\"].sum()\n",
    "        if balance < 0:\n",
    "            return f'Budget Exceeded!: ${balance}'\n",
    "        else:\n",
    "            return f'Expenses are within the budget: ${balance}'\n",
    "        \n",
    "        \n",
    "obj = FinanceTracker(100)\n",
    "obj.add_transactions(\"2024-11-23\", \"stationery\", \"Buying books\", 60)\n",
    "obj.add_transactions(\"2024-11-22\", \"stationery\", \"Bought pens\", 5)\n",
    "obj.add_transactions(\"2024-11-24\", \"Grocery\", \"Bought fruits\", 10)\n",
    "obj.add_transactions(\"2024-11-24\", \"Grocery\", \"Bought greens\", 50)\n",
    "\n",
    "obj.get_transaction(category=\"stationery\")\n",
    "obj.get_budget_balance()"
   ]
  },
  {
   "cell_type": "code",
   "execution_count": null,
   "metadata": {},
   "outputs": [],
   "source": [
    "# CLI application\n",
    "def main():\n",
    "    budget = float(input(\"Enter your budget: \"))\n",
    "    tracker = FinanceTracker(budget)\n",
    "\n",
    "    while True:\n",
    "        print(\"\\nMenu:\")\n",
    "        print(\"1. Add Transaction\")\n",
    "        print(\"2. View Transactions\")\n",
    "        print(\"3. Check Budget Balance\")\n",
    "        print(\"4. Exit\")\n",
    "\n",
    "        choice = input(\"Choose an option: \")\n",
    "\n",
    "        if choice == \"1\":\n",
    "            date = input(\"Enter the date (YYYY-MM-DD): \")\n",
    "            category = input(\"Enter the category: \")\n",
    "            description = input(\"Enter a description: \")\n",
    "            amount = float(input(\"Enter the amount: \"))\n",
    "            print(tracker.add_transactions(date, category, description, amount))\n",
    "\n",
    "        elif choice == \"2\":\n",
    "            category = input(\"Enter a category to filter (or press Enter for all): \")\n",
    "            print(tracker.get_transaction(category if category else None))\n",
    "\n",
    "        elif choice == \"3\":\n",
    "            print(tracker.get_budget_balance())\n",
    "\n",
    "        elif choice == \"4\":\n",
    "            print(\"Exiting. Goodbye!\")\n",
    "            break\n",
    "\n",
    "        else:\n",
    "            print(\"Invalid option. Please try again.\")\n",
    "\n",
    "if __name__ == \"__main__\":\n",
    "    main()"
   ]
  }
 ],
 "metadata": {
  "kernelspec": {
   "display_name": "Python 3",
   "language": "python",
   "name": "python3"
  },
  "language_info": {
   "codemirror_mode": {
    "name": "ipython",
    "version": 3
   },
   "file_extension": ".py",
   "mimetype": "text/x-python",
   "name": "python",
   "nbconvert_exporter": "python",
   "pygments_lexer": "ipython3",
   "version": "3.11.9"
  }
 },
 "nbformat": 4,
 "nbformat_minor": 2
}
